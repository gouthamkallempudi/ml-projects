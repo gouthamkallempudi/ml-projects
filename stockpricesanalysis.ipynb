{
 "cells": [
  {
   "cell_type": "code",
   "execution_count": 112,
   "metadata": {
    "collapsed": true
   },
   "outputs": [],
   "source": [
    "import unicodecsv\n",
    "\n",
    "def read_csv(filename):\n",
    "    with open(filename, 'rb') as f:\n",
    "        reader = unicodecsv.DictReader(f)\n",
    "        mylist = list(reader)\n",
    "        return mylist"
   ]
  },
  {
   "cell_type": "code",
   "execution_count": 113,
   "metadata": {
    "collapsed": false
   },
   "outputs": [],
   "source": [
    "idea=read_csv('aapl.csv')\n"
   ]
  },
  {
   "cell_type": "code",
   "execution_count": 114,
   "metadata": {
    "collapsed": false
   },
   "outputs": [],
   "source": [
    "\n",
    "prices=[]\n",
    "oprices=[]\n",
    "for i in range(len(idea)):\n",
    "    prices.append(float(idea[i].values()[1]))\n",
    "    oprices.append(float(idea[i].values()[3]))\n",
    "    "
   ]
  },
  {
   "cell_type": "code",
   "execution_count": 115,
   "metadata": {
    "collapsed": false
   },
   "outputs": [],
   "source": [
    "dates=[]\n",
    "for i in range(len(idea)):\n",
    "    dates.append(idea[i].values()[5])\n",
    "\n"
   ]
  },
  {
   "cell_type": "code",
   "execution_count": 116,
   "metadata": {
    "collapsed": false
   },
   "outputs": [],
   "source": [
    "k=[]\n",
    "date=[]\n",
    "for i in range(len(idea)):\n",
    "    k.append(dates[i].split('-')[0])\n",
    "    \n",
    "for i in range(len(idea)):\n",
    "    date.append(int(k[i]))"
   ]
  },
  {
   "cell_type": "code",
   "execution_count": 117,
   "metadata": {
    "collapsed": false
   },
   "outputs": [],
   "source": [
    "from sklearn.svm import SVR\n",
    "import matplotlib.pyplot as plt"
   ]
  },
  {
   "cell_type": "code",
   "execution_count": 128,
   "metadata": {
    "collapsed": true
   },
   "outputs": [],
   "source": [
    "svr_lin=SVR(kernel='linear',C=1e3)       #support vector regression with linear kernel\n",
    "svr_rbf=SVR(kernel='rbf',C=1e3,gamma=0.1)#support vector regression with rbf kernel"
   ]
  },
  {
   "cell_type": "code",
   "execution_count": 129,
   "metadata": {
    "collapsed": true
   },
   "outputs": [],
   "source": [
    "features=[]\n",
    "for i in range(len(date)):\n",
    "    k=[date[i],oprice[i]]\n",
    "    features.append(k)"
   ]
  },
  {
   "cell_type": "code",
   "execution_count": 130,
   "metadata": {
    "collapsed": false
   },
   "outputs": [
    {
     "data": {
      "text/plain": [
       "SVR(C=1000.0, cache_size=200, coef0=0.0, degree=3, epsilon=0.1, gamma=0.1,\n",
       "  kernel='rbf', max_iter=-1, shrinking=True, tol=0.001, verbose=False)"
      ]
     },
     "execution_count": 130,
     "metadata": {},
     "output_type": "execute_result"
    }
   ],
   "source": [
    "svr_lin.fit(features,prices)\n",
    "svr_rbf.fit(features,prices)"
   ]
  },
  {
   "cell_type": "code",
   "execution_count": 124,
   "metadata": {
    "collapsed": false
   },
   "outputs": [
    {
     "name": "stdout",
     "output_type": "stream",
     "text": [
      "[ 109.64523864]\n",
      "[ 109.85056625]\n"
     ]
    }
   ],
   "source": [
    "print svr_lin.predict([[13,109]])\n",
    "print svr_rbf.predict([[13,109]])"
   ]
  },
  {
   "cell_type": "code",
   "execution_count": 131,
   "metadata": {
    "collapsed": false
   },
   "outputs": [
    {
     "name": "stdout",
     "output_type": "stream",
     "text": [
      "[ 109.71090762]\n"
     ]
    }
   ],
   "source": [
    "#linear model\n",
    "\n",
    "from sklearn import linear_model\n",
    "clf=linear_model.LinearRegression()\n",
    "clf.fit(features,prices)\n",
    "print clf.predict([[13,109]])"
   ]
  }
 ],
 "metadata": {
  "anaconda-cloud": {},
  "kernelspec": {
   "display_name": "Python [default]",
   "language": "python",
   "name": "python2"
  },
  "language_info": {
   "codemirror_mode": {
    "name": "ipython",
    "version": 2
   },
   "file_extension": ".py",
   "mimetype": "text/x-python",
   "name": "python",
   "nbconvert_exporter": "python",
   "pygments_lexer": "ipython2",
   "version": "2.7.12"
  }
 },
 "nbformat": 4,
 "nbformat_minor": 1
}
